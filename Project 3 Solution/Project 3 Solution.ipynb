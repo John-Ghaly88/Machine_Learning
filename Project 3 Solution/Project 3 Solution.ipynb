{
 "cells": [
  {
   "cell_type": "code",
   "execution_count": 1,
   "metadata": {},
   "outputs": [],
   "source": [
    "import numpy as np\n",
    "import matplotlib.pyplot as plt\n",
    "import math\n",
    "plt.style.use('seaborn-whitegrid')\n",
    "%matplotlib inline"
   ]
  },
  {
   "cell_type": "markdown",
   "metadata": {},
   "source": [
    "# Main Task"
   ]
  },
  {
   "cell_type": "code",
   "execution_count": 2,
   "metadata": {},
   "outputs": [
    {
     "data": {
      "text/plain": [
       "array([19.626, 21.089])"
      ]
     },
     "execution_count": 2,
     "metadata": {},
     "output_type": "execute_result"
    }
   ],
   "source": [
    "#reading data points\n",
    "pts = np.zeros((1,2))\n",
    "i=0\n",
    "with open(r'Data.txt') as file:\n",
    "    for readline in file:\n",
    "        line_strip = readline.strip() # removing \\n\n",
    "        point = line_strip.split('\\t') # removing \\t\n",
    "\n",
    "        if(i==0):\n",
    "            pts[0]=point\n",
    "        else:\n",
    "            pts=np.append(pts,np.array([point]),axis=0)  \n",
    "        i+=1             \n",
    "data=pts.astype(float)\n",
    "\n",
    "data[0]"
   ]
  },
  {
   "cell_type": "code",
   "execution_count": 3,
   "metadata": {},
   "outputs": [
    {
     "name": "stdout",
     "output_type": "stream",
     "text": [
      "100\n"
     ]
    },
    {
     "data": {
      "text/plain": [
       "array([266,  89, 232])"
      ]
     },
     "execution_count": 3,
     "metadata": {},
     "output_type": "execute_result"
    }
   ],
   "source": [
    "#Distance between two points using the euclidean distance rule\n",
    "def euclid_distance(p1,p2):\n",
    "    return math.sqrt(((p2[0]-p1[0])**2)+((p2[1]-p1[1])**2))\n",
    "\n",
    "#The farthest point from the parameter center\n",
    "def max_distance(center,points):\n",
    "    Max=0\n",
    "    max_index=0\n",
    "    for i in range(len(points)):\n",
    "        if(euclid_distance(center,points[i])>=Max):\n",
    "            Max=euclid_distance(center,points[i])\n",
    "            max_index=i\n",
    "    return max_index\n",
    "\n",
    "#Initializing random cluster centers for 100 times\n",
    "def intialize_miu(data):\n",
    "    allIndices=np.array([[0,0,0]])\n",
    "    first_random=np.random.choice(len(data), size=100, replace=False)\n",
    "    for i in range(100):\n",
    "        center=np.array([0,0,0])\n",
    "        center[0]=first_random[i]\n",
    "        center[1]=max_distance(data[center[0]],data)\n",
    "        center[2]=max_distance(data[center[1]],data)\n",
    "        \n",
    "        if(i==0):\n",
    "            allIndices[0]=center\n",
    "        else:\n",
    "            allIndices=np.append(allIndices,[center],axis=0)\n",
    "    return allIndices\n",
    "\n",
    "initial_miu=intialize_miu(data)\n",
    "\n",
    "print(len(initial_miu))\n",
    "initial_miu[0]"
   ]
  },
  {
   "cell_type": "code",
   "execution_count": 4,
   "metadata": {
    "scrolled": true
   },
   "outputs": [
    {
     "data": {
      "text/plain": [
       "array([[100, 101, 102, 103, 104, 105, 106, 107, 108, 109, 110, 111, 112,\n",
       "        113, 114, 115, 116, 117, 118, 119, 120, 121, 122, 123, 124, 125,\n",
       "        126, 127, 128, 129, 130, 131, 132, 133, 134, 135, 136, 137, 138,\n",
       "        139, 140, 141, 142, 143, 144, 145, 146, 147, 148, 149, 150, 151,\n",
       "        152, 153, 154, 155, 156, 157, 158, 159, 160, 161, 162, 163, 164,\n",
       "        165, 166, 167, 168, 169, 170, 171, 172, 173, 174, 175, 176, 177,\n",
       "        178, 179, 180, 181, 182, 183, 184, 185, 186, 187, 188, 189, 190,\n",
       "        191, 192, 193, 194, 195, 196, 197, 198, 199],\n",
       "       [  0,   1,   2,   3,   4,   5,   6,   7,   8,   9,  10,  11,  12,\n",
       "         13,  14,  15,  16,  17,  18,  19,  20,  21,  22,  23,  24,  25,\n",
       "         26,  27,  28,  29,  30,  31,  32,  33,  34,  35,  36,  37,  38,\n",
       "         39,  40,  41,  42,  43,  44,  45,  46,  47,  48,  49,  50,  51,\n",
       "         52,  53,  54,  55,  56,  57,  58,  59,  60,  61,  62,  63,  64,\n",
       "         65,  66,  67,  68,  69,  70,  71,  72,  73,  74,  75,  76,  77,\n",
       "         78,  79,  80,  81,  82,  83,  84,  85,  86,  87,  88,  89,  90,\n",
       "         91,  92,  93,  94,  95,  96,  97,  98,  99],\n",
       "       [200, 201, 202, 203, 204, 205, 206, 207, 208, 209, 210, 211, 212,\n",
       "        213, 214, 215, 216, 217, 218, 219, 220, 221, 222, 223, 224, 225,\n",
       "        226, 227, 228, 229, 230, 231, 232, 233, 234, 235, 236, 237, 238,\n",
       "        239, 240, 241, 242, 243, 244, 245, 246, 247, 248, 249, 250, 251,\n",
       "        252, 253, 254, 255, 256, 257, 258, 259, 260, 261, 262, 263, 264,\n",
       "        265, 266, 267, 268, 269, 270, 271, 272, 273, 274, 275, 276, 277,\n",
       "        278, 279, 280, 281, 282, 283, 284, 285, 286, 287, 288, 289, 290,\n",
       "        291, 292, 293, 294, 295, 296, 297, 298, 299]])"
      ]
     },
     "execution_count": 4,
     "metadata": {},
     "output_type": "execute_result"
    }
   ],
   "source": [
    "#Computes rnk for point x\n",
    "def rnk(x,miu):\n",
    "    Min=euclid_distance(x,miu[0])\n",
    "    if(euclid_distance(x,miu[1])<Min):\n",
    "        return 1\n",
    "    elif(euclid_distance(x,miu[2])<Min):\n",
    "        return 2\n",
    "    else:\n",
    "        return 0\n",
    "\n",
    "#assigning each point for a cluster \n",
    "def assign_clusters(miu,points):\n",
    "    #After getting rnk for each point:\n",
    "        #indices0 : indices belonging to cluster 0\n",
    "        #indices1 : indices belonging to cluster 1\n",
    "        #indices2 : indices belonging to cluster 2\n",
    "\n",
    "    result=np.zeros(len(points))\n",
    "    indices0=np.array([])\n",
    "    indices1=np.array([])\n",
    "    indices2=np.array([])\n",
    "    \n",
    "    \n",
    "    #get rnk for each point\n",
    "    for i in range(len(points)):\n",
    "        result[i]=rnk(points[i],miu)\n",
    "        \n",
    "        if(result[i]==0):\n",
    "            indices0=np.append(indices0,[i])\n",
    "        elif(result[i]==1):\n",
    "            indices1=np.append(indices1,[i])\n",
    "        else:\n",
    "            indices2=np.append(indices2,[i])\n",
    "    \n",
    "    Len=np.array([len(indices0),len(indices1),len(indices2)])\n",
    "    #check if each cluster has the same size, \n",
    "    #if no, the arrays of indices of smaller clusters is filled with -1 until it matches the size of the biggest cluster\n",
    "    \n",
    "    if(Len.all()!=Len[0]):\n",
    "        max_len=len(indices0)\n",
    "        if(len(indices1)>max_len):\n",
    "            max_len=len(indices1)\n",
    "        elif(len(indices2)>max_len):\n",
    "            max_len=len(indices2)\n",
    "    \n",
    "        for j in range(3):\n",
    "            if (j==0):\n",
    "                temp=indices0\n",
    "            elif(j==1):\n",
    "                temp=indices1\n",
    "            else:\n",
    "                temp=indices2\n",
    "            while(max_len>len(temp)):\n",
    "                temp=np.append(temp,[-1])\n",
    "        \n",
    "            if (j==0):\n",
    "                indices0=temp\n",
    "            elif(j==1):\n",
    "                indices1=temp\n",
    "            else:\n",
    "                indices2=temp\n",
    "            \n",
    "    indices=np.array([indices0,indices1,indices2])\n",
    "    return indices\n",
    "\n",
    "\n",
    "#updates the centers of clusters\n",
    "    #old_miu: initial centers of clusters\n",
    "    #points: data points\n",
    "    #k: no. of clusters\n",
    "def update_miu(old_miu,points,k):\n",
    "    new_miu=np.array([points[old_miu[0]],points[old_miu[1]],points[old_miu[2]]])\n",
    "    for t in range(1000):\n",
    "        #assign points for its cluster using the updated centers\n",
    "        clusters=assign_clusters(new_miu,points)\n",
    "        convergence=False\n",
    "        for i in range(k):\n",
    "            #find the new center of cluster k by calculating the average of points of this cluster\n",
    "            sum_x=0\n",
    "            sum_y=0\n",
    "            if(len(np.where(clusters[i]==-1)[0])==0):\n",
    "                n=len(clusters[i])\n",
    "            else:\n",
    "                n=np.where(clusters[i]==-1)[0][0]\n",
    "            if(n==0):\n",
    "                continue\n",
    "            for j in range(n):\n",
    "                sum_x+=points[int(clusters[i][j])][0]\n",
    "                sum_y+=points[int(clusters[i][j])][0]\n",
    "                \n",
    "            avg=np.array([sum_x/n,sum_y/n])\n",
    "            \n",
    "            #convergence is not reached until all k means are not updated anymore\n",
    "            if(np.array_equal(avg, new_miu[i])):\n",
    "                convergence=True\n",
    "            else:\n",
    "                convergence=False\n",
    "                \n",
    "            new_miu[i]=avg\n",
    "            \n",
    "            #when convergence is reached stop updating the centers and return the last claculated ones\n",
    "            if(convergence):\n",
    "                return new_miu     \n",
    "    return new_miu\n",
    "\n",
    "#returns the average distance between the points and provided centers\n",
    "def average_distances(points,this_cluster,this_miu,k):\n",
    "    sum_distances=0\n",
    "    for j in range(k):\n",
    "        for t in range(len(this_cluster[j])):\n",
    "            #add the distance between each point and the mean of its cluster to the sum\n",
    "            sum_distances+=euclid_distance(points[int(this_cluster[j][t])],this_miu[j])\n",
    "            \n",
    "    #caclcuate the average of distances\n",
    "    avg_distances=sum_distances/len(points)\n",
    "    return avg_distances\n",
    "\n",
    "#returns the centers that have the least average distance with the data points\n",
    "def best_miu(initial_miu,points,k):\n",
    "    best_mean=update_miu(initial_miu[0],points,k)\n",
    "    best_cluster=assign_clusters(best_mean,points)\n",
    "    best_average=average_distances(points,best_cluster,best_mean,k)\n",
    "    \n",
    "    for i in range(1,100):\n",
    "        this_mean=update_miu(initial_miu[i],points,k)\n",
    "        this_cluster=assign_clusters(this_mean,points)\n",
    "        this_avg=average_distances(points,this_cluster,this_mean,k)\n",
    "        \n",
    "        if(best_average>this_avg):\n",
    "            best_average=this_avg\n",
    "            best_mean=this_mean\n",
    "            \n",
    "    return best_mean\n",
    "\n",
    "#returns the best clustering result using the best centers\n",
    "def best_clusters(best_miu,points):\n",
    "    return assign_clusters(best_miu,points)\n",
    "    \n",
    "miu = best_miu(initial_miu,data,3)\n",
    "clusters_Indices_1 = best_clusters(miu,data).astype(int)\n",
    "\n",
    "clusters_Indices_1"
   ]
  },
  {
   "cell_type": "code",
   "execution_count": 5,
   "metadata": {},
   "outputs": [
    {
     "data": {
      "image/png": "[encoded data removed]",
      "text/plain": [
       "<Figure size 432x288 with 1 Axes>"
      ]
     },
     "metadata": {
      "needs_background": "light"
     },
     "output_type": "display_data"
    }
   ],
   "source": [
    "#plotting the best clustering result\n",
    "    \n",
    "    #splitting x-axis from y-axis\n",
    "        #ex:cluster0[0] :x-coordinates of cluster 0 , cluster0[1] :y-coordinates of cluster 0\n",
    "cluster0=np.hsplit(data[clusters_Indices_1[0][0]:clusters_Indices_1[0][len(clusters_Indices_1[0])-1]+1], 2)\n",
    "cluster1=np.hsplit(data[clusters_Indices_1[1][0]:clusters_Indices_1[1][len(clusters_Indices_1[1])-1]+1], 2)\n",
    "cluster2=np.hsplit(data[clusters_Indices_1[2][0]:clusters_Indices_1[2][len(clusters_Indices_1[2])-1]+1], 2)\n",
    "\n",
    "plt.scatter(cluster0[0],cluster0[1],marker='o',label=\"cluster0\");\n",
    "plt.scatter(cluster1[0],cluster1[1],marker='o',label=\"cluster1\");\n",
    "plt.scatter(cluster2[0],cluster2[1],marker='o',label=\"cluster2\");\n",
    "\n",
    "plt.scatter(miu[0][0],miu[0][1],marker='x',label=\"center0\")\n",
    "plt.scatter(miu[1][0],miu[1][1],marker='x',label=\"center1\")\n",
    "plt.scatter(miu[2][0],miu[2][1],marker='x',label=\"center2\")\n",
    "\n",
    "plt.xlabel(\"x-axis\")\n",
    "plt.ylabel(\"y-axis\")\n",
    "plt.title(\"Best clustering result\")\n",
    "plt.legend()\n",
    "plt.savefig('Main Task Plotting.jpg')"
   ]
  },
  {
   "cell_type": "markdown",
   "metadata": {},
   "source": [
    "# Bonus Task"
   ]
  },
  {
   "cell_type": "code",
   "execution_count": 6,
   "metadata": {},
   "outputs": [
    {
     "data": {
      "text/plain": [
       "array([0.83512, 1.6277 ])"
      ]
     },
     "execution_count": 6,
     "metadata": {},
     "output_type": "execute_result"
    }
   ],
   "source": [
    "#reading data points\n",
    "pts = np.zeros((1,2))\n",
    "i=0\n",
    "with open(r'Data2.txt') as file:\n",
    "    for readline in file:\n",
    "        line_strip = readline.strip() # removing \\n\n",
    "        point = line_strip.split('\\t') # removing \\t\n",
    "\n",
    "        if(i==0):\n",
    "            pts[0]=point\n",
    "        else:\n",
    "            pts=np.append(pts,np.array([point]),axis=0)  \n",
    "        i+=1             \n",
    "data2=pts.astype(float)\n",
    "\n",
    "data2[0]"
   ]
  },
  {
   "cell_type": "code",
   "execution_count": 7,
   "metadata": {},
   "outputs": [
    {
     "data": {
      "text/plain": [
       "array([[10, 11, 12, 13, 14, 15, 16, 17, 18, 19],\n",
       "       [20, 21, 22, 23, 24, 25, 26, 27, 28, 29],\n",
       "       [ 0,  1,  2,  3,  4,  5,  6,  7,  8,  9]])"
      ]
     },
     "execution_count": 7,
     "metadata": {},
     "output_type": "execute_result"
    }
   ],
   "source": [
    "clusters_Indices_2=best_clusters(miu,data2).astype(int)\n",
    "\n",
    "clusters_Indices_2"
   ]
  },
  {
   "cell_type": "code",
   "execution_count": 8,
   "metadata": {},
   "outputs": [
    {
     "data": {
      "image/png": "[encoded data removed]",
      "text/plain": [
       "<Figure size 432x288 with 1 Axes>"
      ]
     },
     "metadata": {
      "needs_background": "light"
     },
     "output_type": "display_data"
    }
   ],
   "source": [
    "#plotting the points of data2 after assigning them to the clusters\n",
    "    \n",
    "    #splitting x-axis from y-axis\n",
    "        #ex:cluster0[0] :x-coordinates of cluster 0 , cluster0[1] :y-coordinates of cluster 0\n",
    "cluster0=np.hsplit(data2[clusters_Indices_2[0][0]:clusters_Indices_2[0][len(clusters_Indices_2[0])-1]+1], 2)\n",
    "cluster1=np.hsplit(data2[clusters_Indices_2[1][0]:clusters_Indices_2[1][len(clusters_Indices_2[1])-1]+1], 2)\n",
    "cluster2=np.hsplit(data2[clusters_Indices_2[2][0]:clusters_Indices_2[2][len(clusters_Indices_2[2])-1]+1], 2)\n",
    "\n",
    "plt.scatter(cluster0[0],cluster0[1],marker='o',label=\"cluster0\");\n",
    "plt.scatter(cluster1[0],cluster1[1],marker='o',label=\"cluster1\");\n",
    "plt.scatter(cluster2[0],cluster2[1],marker='o',label=\"cluster2\");\n",
    "\n",
    "plt.scatter(miu[0][0],miu[0][1],marker='x',label=\"center0\")\n",
    "plt.scatter(miu[1][0],miu[1][1],marker='x',label=\"center1\")\n",
    "plt.scatter(miu[2][0],miu[2][1],marker='x',label=\"center2\")\n",
    "\n",
    "plt.xlabel(\"x-axis\")\n",
    "plt.ylabel(\"y-axis\")\n",
    "plt.title(\"Best clustering result\")\n",
    "plt.legend()\n",
    "plt.savefig('Bonus Task Plotting.jpg')"
   ]
  },
  {
   "cell_type": "code",
   "execution_count": null,
   "metadata": {},
   "outputs": [],
   "source": []
  }
 ],
 "metadata": {
  "kernelspec": {
   "display_name": "Python 3",
   "language": "python",
   "name": "python3"
  },
  "language_info": {
   "codemirror_mode": {
    "name": "ipython",
    "version": 3
   },
   "file_extension": ".py",
   "mimetype": "text/x-python",
   "name": "python",
   "nbconvert_exporter": "python",
   "pygments_lexer": "ipython3",
   "version": "3.8.5"
  }
 },
 "nbformat": 4,
 "nbformat_minor": 5
}
